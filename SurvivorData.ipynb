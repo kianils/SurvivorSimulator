{
 "cells": [
  {
   "cell_type": "code",
   "execution_count": 43,
   "metadata": {},
   "outputs": [],
   "source": [
    "import requests\n",
    "from bs4 import BeautifulSoup\n",
    "import json\n",
    "import os"
   ]
  },
  {
   "cell_type": "code",
   "execution_count": null,
   "metadata": {},
   "outputs": [
    {
     "name": "stdout",
     "output_type": "stream",
     "text": [
      "Successfully fetched data for season 32.\n",
      "Google Doc Link found: https://docs.google.com/spreadsheets/d/14zscWAr5Dlr4Ujv9RwdlVUHrBIaiMthLdoelmyx_mnk/edit?usp=sharing\n",
      "Google Doc successfully saved to: excel_data/survivor_season_32_data.xlsx\n"
     ]
    }
   ],
   "source": [
    "# Function to ensure the input is a valid season number and fetch the webpage\n",
    "def get_valid_season_and_fetch_page():\n",
    "    while True:\n",
    "        season_number = input(\"What season number would you like to use as data for Survivor? \").strip()\n",
    "        if season_number.isdigit():  # Check if the input is a set of digits\n",
    "            # Construct the URL\n",
    "            url = f\"https://www.truedorktimes.com/survivor/boxscores/s{season_number}.htm\"\n",
    "\n",
    "            # Try to fetch the webpage\n",
    "            try:\n",
    "                response = requests.get(url, timeout=10)  # Set a timeout for robustness\n",
    "                if response.status_code == 200:  # Success\n",
    "                    print(f\"Successfully fetched data for season {season_number}.\")\n",
    "                    return season_number, response\n",
    "                else:\n",
    "                    print(f\"Failed to fetch the webpage for season {season_number} (Status Code: {response.status_code}). Try again.\")\n",
    "            except requests.RequestException as e:\n",
    "                print(f\"Error fetching the webpage: {e}. Try again.\")\n",
    "        else:\n",
    "            print(\"Invalid season number, please enter digits only.\")\n",
    "\n",
    "# Function to download the Google Doc in a specified format\n",
    "def download_google_doc_as_export(doc_url, save_path, export_format=\"xlsx\"):\n",
    "    \"\"\"\n",
    "    Downloads the Google Doc in the specified format.\n",
    "\n",
    "    Args:\n",
    "        doc_url (str): The URL of the Google Doc.\n",
    "        save_path (str): The file path to save the document.\n",
    "        export_format (str): The export format (e.g., 'xlsx', 'pdf', 'csv').\n",
    "    \"\"\"\n",
    "    try:\n",
    "        # Modify the Google Doc link to an export URL\n",
    "        if \"docs.google.com\" in doc_url:\n",
    "            doc_id = doc_url.split('/d/')[1].split('/')[0]  # Extract Google Doc ID\n",
    "            export_url = f\"https://docs.google.com/spreadsheets/d/{doc_id}/export?format={export_format}\"\n",
    "\n",
    "            # Fetch the exported content\n",
    "            response = requests.get(export_url, timeout=10)\n",
    "            response.raise_for_status()  # Raise an error for HTTP issues\n",
    "\n",
    "            # Save the exported file\n",
    "            with open(save_path, \"wb\") as file:\n",
    "                file.write(response.content)\n",
    "            print(f\"Google Doc successfully saved to: {save_path}\")\n",
    "        else:\n",
    "            print(\"Invalid Google Doc URL.\")\n",
    "    except requests.RequestException as e:\n",
    "        print(f\"Error downloading the Google Doc: {e}\")\n",
    "\n",
    "# Get a valid season number and the response\n",
    "season_number, response = get_valid_season_and_fetch_page()\n",
    "\n",
    "# Parse the webpage content with BeautifulSoup\n",
    "soup = BeautifulSoup(response.text, 'html.parser')\n",
    "\n",
    "# Find the anchor tag containing the Google Doc link\n",
    "google_doc_link = soup.find('a', href=lambda href: href and \"docs.google.com\" in href)\n",
    "\n",
    "# Save the Google Doc if found\n",
    "if google_doc_link:\n",
    "    google_doc_url = google_doc_link['href']\n",
    "    print(\"Google Doc Link found:\", google_doc_url)\n",
    "      # Ensure the directory exists\n",
    "    os.makedirs(\"excel_data\", exist_ok=True)\n",
    "    \n",
    "    save_path = f\"excel_data/survivor_season_{season_number}_data.xlsx\"  # Save as Excel file\n",
    "    download_google_doc_as_export(google_doc_url, save_path, export_format=\"xlsx\")\n",
    "else:\n",
    "    print(\"Google Doc Link not found on the webpage.\")"
   ]
  }
 ],
 "metadata": {
  "kernelspec": {
   "display_name": "venv",
   "language": "python",
   "name": "python3"
  },
  "language_info": {
   "codemirror_mode": {
    "name": "ipython",
    "version": 3
   },
   "file_extension": ".py",
   "mimetype": "text/x-python",
   "name": "python",
   "nbconvert_exporter": "python",
   "pygments_lexer": "ipython3",
   "version": "3.12.7"
  }
 },
 "nbformat": 4,
 "nbformat_minor": 2
}
