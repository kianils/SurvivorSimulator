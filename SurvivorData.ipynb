{
 "cells": [
  {
   "cell_type": "code",
   "execution_count": 1,
   "metadata": {},
   "outputs": [],
   "source": [
    "import requests\n",
    "from bs4 import BeautifulSoup\n",
    "import pandas as pd\n"
   ]
  },
  {
   "cell_type": "code",
   "execution_count": 5,
   "metadata": {},
   "outputs": [
    {
     "name": "stdout",
     "output_type": "stream",
     "text": [
      "Downloading file from: https://docs.google.com/spreadsheets/d/<GoogleSheetID>/export?format=xlsx\n",
      "Failed to download the file. Status code: 404\n"
     ]
    }
   ],
   "source": [
    "import requests\n",
    "\n",
    "def download_excel_file(url, save_path):\n",
    "    \"\"\"\n",
    "    Downloads an Excel file from the given URL and saves it locally.\n",
    "    \n",
    "    :param url: The URL of the Excel file to download.\n",
    "    :param save_path: The local path where the file will be saved.\n",
    "    \"\"\"\n",
    "    print(f\"Downloading file from: {url}\")\n",
    "    \n",
    "    try:\n",
    "        # Send a GET request to the URL\n",
    "        response = requests.get(url)\n",
    "        \n",
    "        # Check if the request was successful\n",
    "        if response.status_code == 200:\n",
    "            # Write the file content to the specified save path\n",
    "            with open(save_path, \"wb\") as file:\n",
    "                file.write(response.content)\n",
    "            print(f\"File successfully saved as: {save_path}\")\n",
    "        else:\n",
    "            print(f\"Failed to download the file. Status code: {response.status_code}\")\n",
    "    except Exception as e:\n",
    "        print(f\"An error occurred while downloading the file: {e}\")\n",
    "\n",
    "# Main program\n",
    "if __name__ == \"__main__\":\n",
    "    # Specify the URL of the Excel file (replace this with the actual URL)\n",
    "    excel_url = \"https://docs.google.com/spreadsheets/d/<GoogleSheetID>/export?format=xlsx\"\n",
    "    \n",
    "    # Specify the local path where the file will be saved\n",
    "    save_path = \"Survivor_S32_Kaoh_Rong.xlsx\"\n",
    "    \n",
    "    # Call the function to download the Excel file\n",
    "    download_excel_file(excel_url, save_path)"
   ]
  },
  {
   "cell_type": "code",
   "execution_count": null,
   "metadata": {},
   "outputs": [],
   "source": [
    "\n"
   ]
  },
  {
   "cell_type": "code",
   "execution_count": null,
   "metadata": {},
   "outputs": [],
   "source": []
  },
  {
   "cell_type": "code",
   "execution_count": null,
   "metadata": {},
   "outputs": [],
   "source": []
  }
 ],
 "metadata": {
  "kernelspec": {
   "display_name": "venv",
   "language": "python",
   "name": "python3"
  },
  "language_info": {
   "codemirror_mode": {
    "name": "ipython",
    "version": 3
   },
   "file_extension": ".py",
   "mimetype": "text/x-python",
   "name": "python",
   "nbconvert_exporter": "python",
   "pygments_lexer": "ipython3",
   "version": "3.12.7"
  }
 },
 "nbformat": 4,
 "nbformat_minor": 2
}
